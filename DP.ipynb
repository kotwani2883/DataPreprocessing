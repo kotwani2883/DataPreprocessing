{
  "nbformat": 4,
  "nbformat_minor": 0,
  "metadata": {
    "colab": {
      "name": "DP.ipynb",
      "provenance": [],
      "collapsed_sections": []
    },
    "kernelspec": {
      "name": "python3",
      "display_name": "Python 3"
    }
  },
  "cells": [
    {
      "cell_type": "markdown",
      "metadata": {
        "id": "JyQZ2JUxcQGD"
      },
      "source": [
        "# **DATA PREPROCESSING**"
      ]
    },
    {
      "cell_type": "markdown",
      "metadata": {
        "id": "1GAI0tpWX1ub"
      },
      "source": [
        "# Final Report\n"
      ]
    },
    {
      "cell_type": "markdown",
      "metadata": {
        "id": "roxK-XLZdLTX"
      },
      "source": [
        "Points to be covered -:\n",
        "\n",
        "\n",
        "*   What is Data preprocessing \n",
        "*   How to get dataset\n",
        "*   Importing the librabries\n",
        "*   Import the dataset\n",
        "*   How to handle missing data\n",
        "*  Categorical data\n",
        "*   Splitting the dataset into training and test\n",
        "*  Feature scaling\n",
        "\n",
        "\n"
      ]
    },
    {
      "cell_type": "markdown",
      "metadata": {
        "id": "2wSbmwtld6wL"
      },
      "source": [
        "## What is Data preprocessing ????"
      ]
    },
    {
      "cell_type": "markdown",
      "metadata": {
        "id": "Pi1x3O3XePg5"
      },
      "source": [
        "#### Data preprocessing is a data mining technique which is used to transform the raw data in a useful and efficient format."
      ]
    },
    {
      "cell_type": "markdown",
      "metadata": {
        "id": "jyQRXCTRetRl"
      },
      "source": [
        "DATA SET IS TAKEN FROM -https://www.superdatascience.com/pages/machine-learning"
      ]
    },
    {
      "cell_type": "markdown",
      "metadata": {
        "id": "5JZjqpZ_fBpA"
      },
      "source": [
        "**IMPORTING LIBRARIES** "
      ]
    },
    {
      "cell_type": "code",
      "metadata": {
        "id": "Udy8iHRhe5yX"
      },
      "source": [
        "import numpy as np\n",
        "import matplotlib.pyplot as plt\n",
        "import pandas as pd"
      ],
      "execution_count": null,
      "outputs": []
    },
    {
      "cell_type": "markdown",
      "metadata": {
        "id": "uxjUA7r1foIh"
      },
      "source": [
        "* Numpy is used to perform Mathematical operations on dataset.\n",
        "* Matplotlib is used to include sublibrary as pyplot to help plot       amazing graphs.\n",
        "* Pandas is intutive to import and manage dataset"
      ]
    },
    {
      "cell_type": "markdown",
      "metadata": {
        "id": "OByf4S4xhBj-"
      },
      "source": [
        "## **IMPORTING THE DATASET**"
      ]
    },
    {
      "cell_type": "code",
      "metadata": {
        "id": "fit3egyfq1hf"
      },
      "source": [
        "dataset=pd.read_csv('http://www.sharecsv.com/dl/af33c015f16f67e4b2c78403003b4c93/Data.csv')"
      ],
      "execution_count": null,
      "outputs": []
    },
    {
      "cell_type": "markdown",
      "metadata": {
        "id": "rjvvtPZ7GOMk"
      },
      "source": [
        "Here read_csv method is used to read a comma-separated values (csv) file into DataFrame. Also supports optionally iterating or breaking of the file into chunks"
      ]
    },
    {
      "cell_type": "code",
      "metadata": {
        "id": "1duP8Zx3p68E",
        "outputId": "8a3ae6df-f6a4-4596-9384-322027dc2de3",
        "colab": {
          "base_uri": "https://localhost:8080/",
          "height": 355
        }
      },
      "source": [
        "dataset"
      ],
      "execution_count": null,
      "outputs": [
        {
          "output_type": "execute_result",
          "data": {
            "text/html": [
              "<div>\n",
              "<style scoped>\n",
              "    .dataframe tbody tr th:only-of-type {\n",
              "        vertical-align: middle;\n",
              "    }\n",
              "\n",
              "    .dataframe tbody tr th {\n",
              "        vertical-align: top;\n",
              "    }\n",
              "\n",
              "    .dataframe thead th {\n",
              "        text-align: right;\n",
              "    }\n",
              "</style>\n",
              "<table border=\"1\" class=\"dataframe\">\n",
              "  <thead>\n",
              "    <tr style=\"text-align: right;\">\n",
              "      <th></th>\n",
              "      <th>Country</th>\n",
              "      <th>Age</th>\n",
              "      <th>Salary</th>\n",
              "      <th>Purchased</th>\n",
              "    </tr>\n",
              "  </thead>\n",
              "  <tbody>\n",
              "    <tr>\n",
              "      <th>0</th>\n",
              "      <td>France</td>\n",
              "      <td>44.0</td>\n",
              "      <td>72000.0</td>\n",
              "      <td>No</td>\n",
              "    </tr>\n",
              "    <tr>\n",
              "      <th>1</th>\n",
              "      <td>Spain</td>\n",
              "      <td>27.0</td>\n",
              "      <td>48000.0</td>\n",
              "      <td>Yes</td>\n",
              "    </tr>\n",
              "    <tr>\n",
              "      <th>2</th>\n",
              "      <td>Germany</td>\n",
              "      <td>30.0</td>\n",
              "      <td>54000.0</td>\n",
              "      <td>No</td>\n",
              "    </tr>\n",
              "    <tr>\n",
              "      <th>3</th>\n",
              "      <td>Spain</td>\n",
              "      <td>38.0</td>\n",
              "      <td>61000.0</td>\n",
              "      <td>No</td>\n",
              "    </tr>\n",
              "    <tr>\n",
              "      <th>4</th>\n",
              "      <td>Germany</td>\n",
              "      <td>40.0</td>\n",
              "      <td>NaN</td>\n",
              "      <td>Yes</td>\n",
              "    </tr>\n",
              "    <tr>\n",
              "      <th>5</th>\n",
              "      <td>France</td>\n",
              "      <td>35.0</td>\n",
              "      <td>58000.0</td>\n",
              "      <td>Yes</td>\n",
              "    </tr>\n",
              "    <tr>\n",
              "      <th>6</th>\n",
              "      <td>Spain</td>\n",
              "      <td>NaN</td>\n",
              "      <td>52000.0</td>\n",
              "      <td>No</td>\n",
              "    </tr>\n",
              "    <tr>\n",
              "      <th>7</th>\n",
              "      <td>France</td>\n",
              "      <td>48.0</td>\n",
              "      <td>79000.0</td>\n",
              "      <td>Yes</td>\n",
              "    </tr>\n",
              "    <tr>\n",
              "      <th>8</th>\n",
              "      <td>Germany</td>\n",
              "      <td>50.0</td>\n",
              "      <td>83000.0</td>\n",
              "      <td>No</td>\n",
              "    </tr>\n",
              "    <tr>\n",
              "      <th>9</th>\n",
              "      <td>France</td>\n",
              "      <td>37.0</td>\n",
              "      <td>67000.0</td>\n",
              "      <td>Yes</td>\n",
              "    </tr>\n",
              "  </tbody>\n",
              "</table>\n",
              "</div>"
            ],
            "text/plain": [
              "   Country   Age   Salary Purchased\n",
              "0   France  44.0  72000.0        No\n",
              "1    Spain  27.0  48000.0       Yes\n",
              "2  Germany  30.0  54000.0        No\n",
              "3    Spain  38.0  61000.0        No\n",
              "4  Germany  40.0      NaN       Yes\n",
              "5   France  35.0  58000.0       Yes\n",
              "6    Spain   NaN  52000.0        No\n",
              "7   France  48.0  79000.0       Yes\n",
              "8  Germany  50.0  83000.0        No\n",
              "9   France  37.0  67000.0       Yes"
            ]
          },
          "metadata": {
            "tags": []
          },
          "execution_count": 24
        }
      ]
    },
    {
      "cell_type": "markdown",
      "metadata": {
        "id": "kOllT_9BrhJL"
      },
      "source": [
        "### Independent variables (also referred to as Features) are the input for a process that is being analyzes. Dependent variables are the output of the process."
      ]
    },
    {
      "cell_type": "code",
      "metadata": {
        "id": "Fz_p9r7Ie_n_",
        "outputId": "b18ae7dd-879f-46f0-9489-a570fc3bd007",
        "colab": {
          "base_uri": "https://localhost:8080/",
          "height": 106
        }
      },
      "source": [
        "dataset.head(2)"
      ],
      "execution_count": null,
      "outputs": [
        {
          "output_type": "execute_result",
          "data": {
            "text/html": [
              "<div>\n",
              "<style scoped>\n",
              "    .dataframe tbody tr th:only-of-type {\n",
              "        vertical-align: middle;\n",
              "    }\n",
              "\n",
              "    .dataframe tbody tr th {\n",
              "        vertical-align: top;\n",
              "    }\n",
              "\n",
              "    .dataframe thead th {\n",
              "        text-align: right;\n",
              "    }\n",
              "</style>\n",
              "<table border=\"1\" class=\"dataframe\">\n",
              "  <thead>\n",
              "    <tr style=\"text-align: right;\">\n",
              "      <th></th>\n",
              "      <th>Country</th>\n",
              "      <th>Age</th>\n",
              "      <th>Salary</th>\n",
              "      <th>Purchased</th>\n",
              "    </tr>\n",
              "  </thead>\n",
              "  <tbody>\n",
              "    <tr>\n",
              "      <th>0</th>\n",
              "      <td>France</td>\n",
              "      <td>44.0</td>\n",
              "      <td>72000.0</td>\n",
              "      <td>No</td>\n",
              "    </tr>\n",
              "    <tr>\n",
              "      <th>1</th>\n",
              "      <td>Spain</td>\n",
              "      <td>27.0</td>\n",
              "      <td>48000.0</td>\n",
              "      <td>Yes</td>\n",
              "    </tr>\n",
              "  </tbody>\n",
              "</table>\n",
              "</div>"
            ],
            "text/plain": [
              "  Country   Age   Salary Purchased\n",
              "0  France  44.0  72000.0        No\n",
              "1   Spain  27.0  48000.0       Yes"
            ]
          },
          "metadata": {
            "tags": []
          },
          "execution_count": 5
        }
      ]
    },
    {
      "cell_type": "markdown",
      "metadata": {
        "id": "QTJJPhxogzFt"
      },
      "source": [
        "The head() function is used to get the first n rows.\n",
        "\n",
        "This function returns the first n rows for the object based on position. It is useful for quickly testing if your object has the right type of data in it."
      ]
    },
    {
      "cell_type": "markdown",
      "metadata": {
        "id": "Jj-s4w0_sBIv"
      },
      "source": [
        "## **Matrix of Features**"
      ]
    },
    {
      "cell_type": "code",
      "metadata": {
        "id": "1Nb_rZL_sEc8"
      },
      "source": [
        "X= dataset.iloc[:,: -1].values"
      ],
      "execution_count": null,
      "outputs": []
    },
    {
      "cell_type": "markdown",
      "metadata": {
        "id": "hXx7ih8yJNjt"
      },
      "source": [
        "iloc returns a Pandas Series when one row is selected, and a Pandas DataFrame when multiple rows are selected, or if any column in full is selected. "
      ]
    },
    {
      "cell_type": "code",
      "metadata": {
        "id": "5UEbFZ_xsn0_",
        "outputId": "e1a33764-f596-4acc-ae8b-b359f70069b1",
        "colab": {
          "base_uri": "https://localhost:8080/",
          "height": 191
        }
      },
      "source": [
        "X"
      ],
      "execution_count": null,
      "outputs": [
        {
          "output_type": "execute_result",
          "data": {
            "text/plain": [
              "array([['France', 44.0, 72000.0],\n",
              "       ['Spain', 27.0, 48000.0],\n",
              "       ['Germany', 30.0, 54000.0],\n",
              "       ['Spain', 38.0, 61000.0],\n",
              "       ['Germany', 40.0, nan],\n",
              "       ['France', 35.0, 58000.0],\n",
              "       ['Spain', nan, 52000.0],\n",
              "       ['France', 48.0, 79000.0],\n",
              "       ['Germany', 50.0, 83000.0],\n",
              "       ['France', 37.0, 67000.0]], dtype=object)"
            ]
          },
          "metadata": {
            "tags": []
          },
          "execution_count": 27
        }
      ]
    },
    {
      "cell_type": "markdown",
      "metadata": {
        "id": "do8ztF56sOsQ"
      },
      "source": [
        "**VECTOR OF DEPENDENT VARIABLES**"
      ]
    },
    {
      "cell_type": "code",
      "metadata": {
        "id": "rFsztwWFtUhL"
      },
      "source": [
        "Y=dataset.iloc[:,3].values"
      ],
      "execution_count": null,
      "outputs": []
    },
    {
      "cell_type": "code",
      "metadata": {
        "id": "HDM0YRAotqP7",
        "outputId": "16e0a125-ef8e-409b-c127-392a69f5dd55",
        "colab": {
          "base_uri": "https://localhost:8080/",
          "height": 50
        }
      },
      "source": [
        "Y"
      ],
      "execution_count": null,
      "outputs": [
        {
          "output_type": "execute_result",
          "data": {
            "text/plain": [
              "array(['No', 'Yes', 'No', 'No', 'Yes', 'Yes', 'No', 'Yes', 'No', 'Yes'],\n",
              "      dtype=object)"
            ]
          },
          "metadata": {
            "tags": []
          },
          "execution_count": 13
        }
      ]
    },
    {
      "cell_type": "markdown",
      "metadata": {
        "id": "8TVD90-Q1ZBZ"
      },
      "source": [
        " **HOW TO HANDLE MISSING VALUES**"
      ]
    },
    {
      "cell_type": "code",
      "metadata": {
        "id": "QRshLwdttuUj"
      },
      "source": [
        "from sklearn.impute import SimpleImputer\n",
        "imputer = SimpleImputer(missing_values=np.nan, strategy='mean')\n",
        "imputer=imputer.fit(X[:,1:3])\n",
        "X[:,1:3]=imputer.transform(X[:,1:3])"
      ],
      "execution_count": null,
      "outputs": []
    },
    {
      "cell_type": "code",
      "metadata": {
        "id": "kwZVvV4BCWvv",
        "outputId": "8b177411-bd17-43aa-f059-7854b09a4990",
        "colab": {
          "base_uri": "https://localhost:8080/",
          "height": 185
        }
      },
      "source": [
        "X"
      ],
      "execution_count": null,
      "outputs": [
        {
          "output_type": "execute_result",
          "data": {
            "text/plain": [
              "array([['France', 44.0, 72000.0],\n",
              "       ['Spain', 27.0, 48000.0],\n",
              "       ['Germany', 30.0, 54000.0],\n",
              "       ['Spain', 38.0, 61000.0],\n",
              "       ['Germany', 40.0, 63777.77777777778],\n",
              "       ['France', 35.0, 58000.0],\n",
              "       ['Spain', 38.77777777777778, 52000.0],\n",
              "       ['France', 48.0, 79000.0],\n",
              "       ['Germany', 50.0, 83000.0],\n",
              "       ['France', 37.0, 67000.0]], dtype=object)"
            ]
          },
          "metadata": {
            "tags": []
          },
          "execution_count": 15
        }
      ]
    },
    {
      "cell_type": "markdown",
      "metadata": {
        "id": "0WFsvW_0JlTP"
      },
      "source": [
        "By the fit the imputer calculates the means of columns from some data, and by transform it applies those means to some data (which is just replacing missing values with the means)"
      ]
    },
    {
      "cell_type": "markdown",
      "metadata": {
        "id": "o6CEApF03GnB"
      },
      "source": [
        "**CATEGORICAL DATA**"
      ]
    },
    {
      "cell_type": "code",
      "metadata": {
        "id": "odBo4zu03LbL"
      },
      "source": [
        "from sklearn.preprocessing import LabelEncoder\n",
        "labelencoder_X=LabelEncoder()\n",
        "X[:,0]=labelencoder_X.fit_transform(X[:,0])"
      ],
      "execution_count": null,
      "outputs": []
    },
    {
      "cell_type": "markdown",
      "metadata": {
        "id": "ENrAo2sPKTn2"
      },
      "source": [
        "LabelEncoder can be used to normalize labels. It can also be used to transform non-numerical labels (as long as they are hashable and comparable) to numerical labels."
      ]
    },
    {
      "cell_type": "markdown",
      "metadata": {
        "id": "gXb9e5ukKWa4"
      },
      "source": [
        " fit_transform means to do some calculation and then do transformation (say calculating the means of columns from some data and then replacing the missing values). So for training set, you need to both calculate and do transformation."
      ]
    },
    {
      "cell_type": "code",
      "metadata": {
        "id": "NLlKuLHD40N7",
        "outputId": "53467af5-3648-45de-fdee-a06b6c77a0c4",
        "colab": {
          "base_uri": "https://localhost:8080/",
          "height": 185
        }
      },
      "source": [
        "X"
      ],
      "execution_count": null,
      "outputs": [
        {
          "output_type": "execute_result",
          "data": {
            "text/plain": [
              "array([[0, 44.0, 72000.0],\n",
              "       [2, 27.0, 48000.0],\n",
              "       [1, 30.0, 54000.0],\n",
              "       [2, 38.0, 61000.0],\n",
              "       [1, 40.0, 63777.77777777778],\n",
              "       [0, 35.0, 58000.0],\n",
              "       [2, 38.77777777777778, 52000.0],\n",
              "       [0, 48.0, 79000.0],\n",
              "       [1, 50.0, 83000.0],\n",
              "       [0, 37.0, 67000.0]], dtype=object)"
            ]
          },
          "metadata": {
            "tags": []
          },
          "execution_count": 17
        }
      ]
    },
    {
      "cell_type": "markdown",
      "metadata": {
        "id": "VgtjsgiF_hyo"
      },
      "source": [
        "![alt text](https://drive.google.com/uc?id=1KMj5akec7PXqLqMtmG4OyFTpyUwlJTf0)"
      ]
    },
    {
      "cell_type": "markdown",
      "metadata": {
        "id": "yWdO7P0j2NGM"
      },
      "source": [
        "[Dummy Encoding](https://towardsdatascience.com/one-hot-encoding-multicollinearity-and-the-dummy-variable-trap-b5840be3c41a)"
      ]
    },
    {
      "cell_type": "markdown",
      "metadata": {
        "id": "wcKAma8CiU7F"
      },
      "source": [
        "**SPLITTING THE DATASET INTO TRAINING AND TEST DATA**"
      ]
    },
    {
      "cell_type": "code",
      "metadata": {
        "id": "NZbvkGhUictD"
      },
      "source": [
        "from sklearn.model_selection  import  train_test_split\n",
        "X_train,X_test,Y_train,Y_test=train_test_split(X,Y,test_size=0.2,random_state=0)\n"
      ],
      "execution_count": null,
      "outputs": []
    },
    {
      "cell_type": "markdown",
      "metadata": {
        "id": "-SSVuNs5nXcy"
      },
      "source": [
        "train_test_split is a function in Sklearn model selection for splitting data arrays into two subsets: for training data and for testing data"
      ]
    },
    {
      "cell_type": "code",
      "metadata": {
        "id": "uNrvoED5loiP",
        "outputId": "c94bd609-a357-4286-99e5-e992da3e4ee6",
        "colab": {
          "base_uri": "https://localhost:8080/",
          "height": 151
        }
      },
      "source": [
        "X_train\n"
      ],
      "execution_count": null,
      "outputs": [
        {
          "output_type": "execute_result",
          "data": {
            "text/plain": [
              "array([[1, 40.0, 63777.77777777778],\n",
              "       [0, 37.0, 67000.0],\n",
              "       [2, 27.0, 48000.0],\n",
              "       [2, 38.77777777777778, 52000.0],\n",
              "       [0, 48.0, 79000.0],\n",
              "       [2, 38.0, 61000.0],\n",
              "       [0, 44.0, 72000.0],\n",
              "       [0, 35.0, 58000.0]], dtype=object)"
            ]
          },
          "metadata": {
            "tags": []
          },
          "execution_count": 19
        }
      ]
    },
    {
      "cell_type": "code",
      "metadata": {
        "id": "j4ySnke3l-6C",
        "outputId": "81342527-b40b-4802-c8e5-9f29d1a3dca6",
        "colab": {
          "base_uri": "https://localhost:8080/",
          "height": 34
        }
      },
      "source": [
        "Y_train"
      ],
      "execution_count": null,
      "outputs": [
        {
          "output_type": "execute_result",
          "data": {
            "text/plain": [
              "array(['Yes', 'Yes', 'Yes', 'No', 'Yes', 'No', 'No', 'Yes'], dtype=object)"
            ]
          },
          "metadata": {
            "tags": []
          },
          "execution_count": 20
        }
      ]
    },
    {
      "cell_type": "code",
      "metadata": {
        "id": "4iJl0nVfl8yp",
        "outputId": "52b9c919-2c60-47ee-df49-debdc3529d94",
        "colab": {
          "base_uri": "https://localhost:8080/",
          "height": 50
        }
      },
      "source": [
        "X_test"
      ],
      "execution_count": null,
      "outputs": [
        {
          "output_type": "execute_result",
          "data": {
            "text/plain": [
              "array([[1, 30.0, 54000.0],\n",
              "       [1, 50.0, 83000.0]], dtype=object)"
            ]
          },
          "metadata": {
            "tags": []
          },
          "execution_count": 21
        }
      ]
    },
    {
      "cell_type": "code",
      "metadata": {
        "id": "w5HjhzJRmBXw",
        "outputId": "d4123f84-e8f9-436d-9fe2-f03ebb5d3357",
        "colab": {
          "base_uri": "https://localhost:8080/",
          "height": 34
        }
      },
      "source": [
        "Y_test"
      ],
      "execution_count": null,
      "outputs": [
        {
          "output_type": "execute_result",
          "data": {
            "text/plain": [
              "array(['No', 'No'], dtype=object)"
            ]
          },
          "metadata": {
            "tags": []
          },
          "execution_count": 22
        }
      ]
    },
    {
      "cell_type": "markdown",
      "metadata": {
        "id": "gBHBfb1Rofgj"
      },
      "source": [
        "## FEATURE SCALING"
      ]
    },
    {
      "cell_type": "markdown",
      "metadata": {
        "id": "SOHnwASExUXw"
      },
      "source": [
        "![alt text](https://drive.google.com/uc?id=1NK5rUbQpYme78TMySEjGDWZy8RX6AbvZ)"
      ]
    },
    {
      "cell_type": "markdown",
      "metadata": {
        "id": "W-oXJKaEtrFI"
      },
      "source": [
        "Feature scaling  can be an important preprocessing step for many machine learning algorithms. It basically helps to normalise the data within a particular range."
      ]
    },
    {
      "cell_type": "markdown",
      "metadata": {
        "id": "kto5WedgUwEc"
      },
      "source": [
        "![alt text](https://drive.google.com/uc?id=19g9QR_ZzyoL2A9DEsbdq9rAwcowk_Ivg)"
      ]
    },
    {
      "cell_type": "markdown",
      "metadata": {
        "id": "-uI32vmLu_li"
      },
      "source": [
        "### **![alt text](https://drive.google.com/uc?id=1b3CEf_nhLLsoM0mfKY47Oybwg-j-TNKM)**"
      ]
    },
    {
      "cell_type": "markdown",
      "metadata": {
        "id": "-ncXXlScyVqr"
      },
      "source": [
        "Normalization usually means to scale a variable to have a values between 0 and 1, while standardization transforms data to have a mean of zero and a standard deviation of 1.These terms are often used interchangebly."
      ]
    },
    {
      "cell_type": "code",
      "metadata": {
        "id": "w3bdOGiJonbM"
      },
      "source": [
        "from sklearn.preprocessing import StandardScaler \n",
        "sc_X=StandardScaler()\n",
        "X_train=sc_X.fit_transform(X_train)\n",
        "X_test=sc_X.transform(X_test)"
      ],
      "execution_count": null,
      "outputs": []
    },
    {
      "cell_type": "code",
      "metadata": {
        "id": "JY_SyJpUsAxa",
        "outputId": "f9017c2a-40a0-476e-f99a-dcfe1fb6c70e",
        "colab": {
          "base_uri": "https://localhost:8080/",
          "height": 151
        }
      },
      "source": [
        "X_train"
      ],
      "execution_count": null,
      "outputs": [
        {
          "output_type": "execute_result",
          "data": {
            "text/plain": [
              "array([[ 0.13483997,  0.26306757,  0.12381479],\n",
              "       [-0.94387981, -0.25350148,  0.46175632],\n",
              "       [ 1.21355975, -1.97539832, -1.53093341],\n",
              "       [ 1.21355975,  0.05261351, -1.11141978],\n",
              "       [-0.94387981,  1.64058505,  1.7202972 ],\n",
              "       [ 1.21355975, -0.0813118 , -0.16751412],\n",
              "       [-0.94387981,  0.95182631,  0.98614835],\n",
              "       [-0.94387981, -0.59788085, -0.48214934]])"
            ]
          },
          "metadata": {
            "tags": []
          },
          "execution_count": 24
        }
      ]
    },
    {
      "cell_type": "markdown",
      "metadata": {
        "id": "L3UP7NZrsG-1"
      },
      "source": [
        "Observe here values are roughly between -2 and +2..."
      ]
    },
    {
      "cell_type": "code",
      "metadata": {
        "id": "JO_WZck2sDHR",
        "outputId": "321cf419-3d13-41ab-8937-f4cc4696607c",
        "colab": {
          "base_uri": "https://localhost:8080/",
          "height": 50
        }
      },
      "source": [
        "X_test"
      ],
      "execution_count": null,
      "outputs": [
        {
          "output_type": "execute_result",
          "data": {
            "text/plain": [
              "array([[ 0.13483997, -1.45882927, -0.90166297],\n",
              "       [ 0.13483997,  1.98496442,  2.13981082]])"
            ]
          },
          "metadata": {
            "tags": []
          },
          "execution_count": 25
        }
      ]
    }
  ]
}